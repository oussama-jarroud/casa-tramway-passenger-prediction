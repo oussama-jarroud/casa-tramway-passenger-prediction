{
 "cells": [
  {
   "cell_type": "code",
   "execution_count": 2,
   "id": "715d35db",
   "metadata": {},
   "outputs": [],
   "source": [
    "import pandas as pd\n",
    "import numpy as np\n",
    "import matplotlib.pyplot as plt\n",
    "import seaborn as sns\n",
    "from sklearn.preprocessing import LabelEncoder, OneHotEncoder, StandardScaler\n",
    "from sklearn.compose import ColumnTransformer\n",
    "from sklearn.pipeline import Pipeline\n",
    "%matplotlib inline"
   ]
  },
  {
   "cell_type": "code",
   "execution_count": 3,
   "id": "410d9ae1",
   "metadata": {},
   "outputs": [
    {
     "name": "stdout",
     "output_type": "stream",
     "text": [
      "Aperçu des données brutes :\n",
      "         Date Jour_Semaine  Mois  Annee  Est_Week_End  Est_Jour_Ferie  \\\n",
      "0  2022-01-01     Saturday     1   2022             1               1   \n",
      "1  2022-01-02       Sunday     1   2022             1               0   \n",
      "2  2022-01-03       Monday     1   2022             0               0   \n",
      "3  2022-01-04      Tuesday     1   2022             0               0   \n",
      "4  2022-01-05    Wednesday     1   2022             0               0   \n",
      "\n",
      "   Est_Vacances_Scolaires  Evenement_Special  Temperature_Moyenne_C  \\\n",
      "0                       0                  0                    4.8   \n",
      "1                       0                  0                   10.2   \n",
      "2                       0                  0                    3.0   \n",
      "3                       0                  0                    4.5   \n",
      "4                       0                  0                    5.5   \n",
      "\n",
      "   Precipitations_mm  Nb_Passagers  \n",
      "0                3.7         18493  \n",
      "1                3.5         24360  \n",
      "2               10.2         38815  \n",
      "3                0.0         59278  \n",
      "4               10.0         56771  \n",
      "\n",
      "Informations initiales :\n",
      "<class 'pandas.core.frame.DataFrame'>\n",
      "RangeIndex: 761 entries, 0 to 760\n",
      "Data columns (total 11 columns):\n",
      " #   Column                  Non-Null Count  Dtype  \n",
      "---  ------                  --------------  -----  \n",
      " 0   Date                    761 non-null    object \n",
      " 1   Jour_Semaine            761 non-null    object \n",
      " 2   Mois                    761 non-null    int64  \n",
      " 3   Annee                   761 non-null    int64  \n",
      " 4   Est_Week_End            761 non-null    int64  \n",
      " 5   Est_Jour_Ferie          761 non-null    int64  \n",
      " 6   Est_Vacances_Scolaires  761 non-null    int64  \n",
      " 7   Evenement_Special       761 non-null    int64  \n",
      " 8   Temperature_Moyenne_C   761 non-null    float64\n",
      " 9   Precipitations_mm       761 non-null    float64\n",
      " 10  Nb_Passagers            761 non-null    int64  \n",
      "dtypes: float64(2), int64(7), object(2)\n",
      "memory usage: 65.5+ KB\n",
      "None\n"
     ]
    }
   ],
   "source": [
    "# Adapte le chemin et le nom du fichier\n",
    "df = pd.read_csv('../data/raw/passengers_casatramway_raw.csv')\n",
    "print(\"Aperçu des données brutes :\")\n",
    "print(df.head())\n",
    "print(\"\\nInformations initiales :\")\n",
    "print(df.info())"
   ]
  },
  {
   "cell_type": "code",
   "execution_count": 4,
   "id": "eb92f3d0",
   "metadata": {},
   "outputs": [],
   "source": [
    "df['Date'] = pd.to_datetime(df['Date'])\n",
    "df['Jour'] = df['Date'].dt.day\n",
    "df['Numero_Semaine'] = df['Date'].dt.isocalendar().week.astype(int)\n",
    "df['Jour_Annee'] = df['Date'].dt.dayofyear\n",
    "df['Trimestre'] = df['Date'].dt.quarter\n",
    "df['Jour_Mois'] = df['Date'].dt.day"
   ]
  },
  {
   "cell_type": "code",
   "execution_count": 5,
   "id": "d2598924",
   "metadata": {},
   "outputs": [],
   "source": [
    "df = df.drop(columns=['Date']) # Ou la garder si l'index est la date plus tard"
   ]
  },
  {
   "cell_type": "code",
   "execution_count": 6,
   "id": "6784d676",
   "metadata": {},
   "outputs": [],
   "source": [
    "categorical_features = ['Jour_Semaine']\n",
    "\n",
    "# Créer un ColumnTransformer pour l'encodage OneHot\n",
    "# 'remainder=\"passthrough\"' garde les autres colonnes non transformées\n",
    "preprocessor = ColumnTransformer(\n",
    "    transformers=[\n",
    "        ('cat', OneHotEncoder(handle_unknown='ignore'), categorical_features)\n",
    "    ],\n",
    "    remainder='passthrough'\n",
    ")\n",
    "\n",
    "# Appliquer le preprocessor\n",
    "# Fit et transform sur le DataFrame\n",
    "df_processed_temp = preprocessor.fit_transform(df)\n",
    "\n",
    "# Récupérer les noms des colonnes après OneHotEncoding\n",
    "onehot_feature_names = preprocessor.named_transformers_['cat'].get_feature_names_out(categorical_features)\n",
    "\n",
    "# Créer le nouveau DataFrame avec les colonnes encodées et les autres\n",
    "# On récupère les colonnes qui n'ont pas été encodées\n",
    "remaining_features = [col for col in df.columns if col not in categorical_features]\n",
    "\n",
    "# Convertir df_processed_temp en DataFrame Pandas\n",
    "df_processed = pd.DataFrame(df_processed_temp, columns=list(onehot_feature_names) + remaining_features)"
   ]
  },
  {
   "cell_type": "code",
   "execution_count": 7,
   "id": "9d7cf101",
   "metadata": {},
   "outputs": [],
   "source": [
    "target_column = 'Nb_Passagers'\n",
    "features_columns = [col for col in df_processed.columns if col != target_column]\n",
    "df_processed = df_processed[features_columns + [target_column]]"
   ]
  },
  {
   "cell_type": "code",
   "execution_count": 9,
   "id": "6d739209",
   "metadata": {},
   "outputs": [],
   "source": [
    "# --- Sauvegarde des données prétraitées ---\n",
    "df_processed.to_csv('../data/processed/passengers_casatramway_processed.csv', index=False)\n"
   ]
  },
  {
   "cell_type": "code",
   "execution_count": 10,
   "id": "745be31a",
   "metadata": {},
   "outputs": [
    {
     "data": {
      "text/plain": [
       "['../saved_models/preprocessor.pkl']"
      ]
     },
     "execution_count": 10,
     "metadata": {},
     "output_type": "execute_result"
    }
   ],
   "source": [
    "import joblib\n",
    "# --- Sauvegarde du ColumnTransformer (très important pour le déploiement !) ---\n",
    "joblib.dump(preprocessor, '../saved_models/preprocessor.pkl')\n"
   ]
  },
  {
   "cell_type": "code",
   "execution_count": 11,
   "id": "ac0ca81b",
   "metadata": {},
   "outputs": [
    {
     "name": "stdout",
     "output_type": "stream",
     "text": [
      "Aperçu des 5 premières lignes des données prétraitées :\n",
      "   Jour_Semaine_Friday  Jour_Semaine_Monday  Jour_Semaine_Saturday  \\\n",
      "0                  0.0                  0.0                    1.0   \n",
      "1                  0.0                  0.0                    0.0   \n",
      "2                  0.0                  1.0                    0.0   \n",
      "3                  0.0                  0.0                    0.0   \n",
      "4                  0.0                  0.0                    0.0   \n",
      "\n",
      "   Jour_Semaine_Sunday  Jour_Semaine_Thursday  Jour_Semaine_Tuesday  \\\n",
      "0                  0.0                    0.0                   0.0   \n",
      "1                  1.0                    0.0                   0.0   \n",
      "2                  0.0                    0.0                   0.0   \n",
      "3                  0.0                    0.0                   1.0   \n",
      "4                  0.0                    0.0                   0.0   \n",
      "\n",
      "   Jour_Semaine_Wednesday  Mois   Annee  Est_Week_End  ...  \\\n",
      "0                     0.0   1.0  2022.0           1.0  ...   \n",
      "1                     0.0   1.0  2022.0           1.0  ...   \n",
      "2                     0.0   1.0  2022.0           0.0  ...   \n",
      "3                     0.0   1.0  2022.0           0.0  ...   \n",
      "4                     1.0   1.0  2022.0           0.0  ...   \n",
      "\n",
      "   Est_Vacances_Scolaires  Evenement_Special  Temperature_Moyenne_C  \\\n",
      "0                     0.0                0.0                    4.8   \n",
      "1                     0.0                0.0                   10.2   \n",
      "2                     0.0                0.0                    3.0   \n",
      "3                     0.0                0.0                    4.5   \n",
      "4                     0.0                0.0                    5.5   \n",
      "\n",
      "   Precipitations_mm  Jour  Numero_Semaine  Jour_Annee  Trimestre  Jour_Mois  \\\n",
      "0                3.7   1.0            52.0         1.0        1.0        1.0   \n",
      "1                3.5   2.0            52.0         2.0        1.0        2.0   \n",
      "2               10.2   3.0             1.0         3.0        1.0        3.0   \n",
      "3                0.0   4.0             1.0         4.0        1.0        4.0   \n",
      "4               10.0   5.0             1.0         5.0        1.0        5.0   \n",
      "\n",
      "   Nb_Passagers  \n",
      "0       18493.0  \n",
      "1       24360.0  \n",
      "2       38815.0  \n",
      "3       59278.0  \n",
      "4       56771.0  \n",
      "\n",
      "[5 rows x 21 columns]\n",
      "\n",
      "Informations sur les types de données des données prétraitées :\n",
      "<class 'pandas.core.frame.DataFrame'>\n",
      "RangeIndex: 761 entries, 0 to 760\n",
      "Data columns (total 21 columns):\n",
      " #   Column                  Non-Null Count  Dtype  \n",
      "---  ------                  --------------  -----  \n",
      " 0   Jour_Semaine_Friday     761 non-null    float64\n",
      " 1   Jour_Semaine_Monday     761 non-null    float64\n",
      " 2   Jour_Semaine_Saturday   761 non-null    float64\n",
      " 3   Jour_Semaine_Sunday     761 non-null    float64\n",
      " 4   Jour_Semaine_Thursday   761 non-null    float64\n",
      " 5   Jour_Semaine_Tuesday    761 non-null    float64\n",
      " 6   Jour_Semaine_Wednesday  761 non-null    float64\n",
      " 7   Mois                    761 non-null    float64\n",
      " 8   Annee                   761 non-null    float64\n",
      " 9   Est_Week_End            761 non-null    float64\n",
      " 10  Est_Jour_Ferie          761 non-null    float64\n",
      " 11  Est_Vacances_Scolaires  761 non-null    float64\n",
      " 12  Evenement_Special       761 non-null    float64\n",
      " 13  Temperature_Moyenne_C   761 non-null    float64\n",
      " 14  Precipitations_mm       761 non-null    float64\n",
      " 15  Jour                    761 non-null    float64\n",
      " 16  Numero_Semaine          761 non-null    float64\n",
      " 17  Jour_Annee              761 non-null    float64\n",
      " 18  Trimestre               761 non-null    float64\n",
      " 19  Jour_Mois               761 non-null    float64\n",
      " 20  Nb_Passagers            761 non-null    float64\n",
      "dtypes: float64(21)\n",
      "memory usage: 125.0 KB\n",
      "None\n"
     ]
    }
   ],
   "source": [
    "# --- Affichage d'un aperçu des données prétraitées ---\n",
    "print(\"Aperçu des 5 premières lignes des données prétraitées :\")\n",
    "print(df_processed.head())\n",
    "print(\"\\nInformations sur les types de données des données prétraitées :\")\n",
    "print(df_processed.info())"
   ]
  }
 ],
 "metadata": {
  "kernelspec": {
   "display_name": "venv",
   "language": "python",
   "name": "python3"
  },
  "language_info": {
   "codemirror_mode": {
    "name": "ipython",
    "version": 3
   },
   "file_extension": ".py",
   "mimetype": "text/x-python",
   "name": "python",
   "nbconvert_exporter": "python",
   "pygments_lexer": "ipython3",
   "version": "3.13.7"
  }
 },
 "nbformat": 4,
 "nbformat_minor": 5
}
